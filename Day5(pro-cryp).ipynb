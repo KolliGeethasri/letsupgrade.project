{
  "nbformat": 4,
  "nbformat_minor": 0,
  "metadata": {
    "colab": {
      "name": "Untitled9.ipynb",
      "provenance": []
    },
    "kernelspec": {
      "name": "python3",
      "display_name": "Python 3"
    }
  },
  "cells": [
    {
      "cell_type": "code",
      "metadata": {
        "id": "C938VKqsV0OV"
      },
      "source": [
        "import onetimepad"
      ],
      "execution_count": null,
      "outputs": []
    },
    {
      "cell_type": "code",
      "metadata": {
        "id": "zlCVKLpWV14x"
      },
      "source": [
        "#!pip install onetimepad"
      ],
      "execution_count": null,
      "outputs": []
    },
    {
      "cell_type": "code",
      "metadata": {
        "id": "xjmEAYigV5W_"
      },
      "source": [
        "from tkinter import *\r\n",
        "#import tkinter\r\n",
        "\r\n",
        "root = Tk()\r\n",
        "root.title(\"Chryptography App\")\r\n",
        "\r\n",
        "def encryptMessage():\r\n",
        "    a = var.get()\r\n",
        "    #Ritesh\r\n",
        "    ct = onetimepad.encrypt(a,\"letupgrade\")\r\n",
        "    print(\"Working\",ct) \r\n",
        "    \r\n",
        "    e2.delete(0,END)\r\n",
        "    e2.insert(END,ct)\r\n",
        "\r\n",
        "def dycrptMessage():\r\n",
        "    a = var2.get()\r\n",
        "    #Ritesh\r\n",
        "    ct = onetimepad.decrypt(a,\"letupgrade\")\r\n",
        "    print(\"Working\",ct) \r\n",
        "    \r\n",
        "    e4.delete(0,END)\r\n",
        "    e4.insert(END,ct)\r\n",
        "    \r\n",
        "    \r\n",
        "    \r\n",
        "l1 = Label(root,text=\"Plain Text\")\r\n",
        "l1.grid(row=0,column=0)\r\n",
        "\r\n",
        "\r\n",
        "l3 = Label(root,text=\"Encypted Text\")\r\n",
        "l3.grid(row=0,column=2)\r\n",
        "\r\n",
        "var= StringVar()\r\n",
        "e1 = Entry(root,textvariable=var)\r\n",
        "e1.grid(row=0,column=1)\r\n",
        "\r\n",
        "var2= StringVar()\r\n",
        "e3 = Entry(root,textvariable=var2)\r\n",
        "e3.grid(row=0,column=3)\r\n",
        "\r\n",
        "\r\n",
        "\r\n",
        "l2 = Label(root,text=\"Encypted Text\")\r\n",
        "l2.grid(row=1,column=0)\r\n",
        "\r\n",
        "l4 = Label(root,text=\"Plain Text\")\r\n",
        "l4.grid(row=1,column=2)\r\n",
        "\r\n",
        "\r\n",
        "e2 = Entry(root)\r\n",
        "e2.grid(row=1,column=1)\r\n",
        "\r\n",
        "e4 = Entry(root)\r\n",
        "e4.grid(row=1,column=3)\r\n",
        "\r\n",
        "b1 = Button(root,text=\"Encyption\",bg=\"blue\",fg=\"Red\",command=encryptMessage)\r\n",
        "b1.grid(row=2,column=1)\r\n",
        "\r\n",
        "b2 = Button(root,text=\"Dycrption\",bg=\"blue\",fg=\"Red\",command=dycrptMessage)\r\n",
        "b2.grid(row=2,column=3)\r\n",
        "\r\n",
        "\r\n",
        "\r\n",
        "\r\n",
        "root.mainloop()"
      ],
      "execution_count": null,
      "outputs": []
    }
  ]
}